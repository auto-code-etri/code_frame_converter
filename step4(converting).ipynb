{
 "cells": [
  {
   "cell_type": "code",
   "execution_count": 1,
   "metadata": {},
   "outputs": [
    {
     "name": "stderr",
     "output_type": "stream",
     "text": [
      "c:\\python_dir\\Test_Crawler2\\llm_config.py:54: LangChainDeprecationWarning: The class `ChatOpenAI` was deprecated in LangChain 0.0.10 and will be removed in 1.0. An updated version of the class exists in the :class:`~langchain-openai package and should be used instead. To use it run `pip install -U :class:`~langchain-openai` and import as `from :class:`~langchain_openai import ChatOpenAI``.\n",
      "  llm_core = ChatOpenAI(model_name=\"gpt-3.5-turbo\", temperature=0)\n"
     ]
    }
   ],
   "source": [
    "from convert_code_to_nl_tool import *\n",
    "from json_tool import *\n",
    "from llm_config import *\n",
    "import pandas as pd"
   ]
  },
  {
   "cell_type": "code",
   "execution_count": 2,
   "metadata": {},
   "outputs": [
    {
     "data": {
      "text/plain": [
       "'Hello! I am an AI digital assistant here to help answer any questions you may have. How can I assist you today?'"
      ]
     },
     "execution_count": 2,
     "metadata": {},
     "output_type": "execute_result"
    }
   ],
   "source": [
    "response = llm('hello. who are you?')\n",
    "response"
   ]
  },
  {
   "cell_type": "markdown",
   "metadata": {},
   "source": [
    "### 8.0 이상 점수를 받은 데이터들에 대해서 코드를 자연어로 변형하려고 시도한다."
   ]
  },
  {
   "cell_type": "code",
   "execution_count": 3,
   "metadata": {},
   "outputs": [
    {
     "data": {
      "text/html": [
       "<div>\n",
       "<style scoped>\n",
       "    .dataframe tbody tr th:only-of-type {\n",
       "        vertical-align: middle;\n",
       "    }\n",
       "\n",
       "    .dataframe tbody tr th {\n",
       "        vertical-align: top;\n",
       "    }\n",
       "\n",
       "    .dataframe thead th {\n",
       "        text-align: right;\n",
       "    }\n",
       "</style>\n",
       "<table border=\"1\" class=\"dataframe\">\n",
       "  <thead>\n",
       "    <tr style=\"text-align: right;\">\n",
       "      <th></th>\n",
       "      <th>file_name</th>\n",
       "      <th>line_count</th>\n",
       "      <th>code</th>\n",
       "      <th>mark</th>\n",
       "    </tr>\n",
       "  </thead>\n",
       "  <tbody>\n",
       "    <tr>\n",
       "      <th>0</th>\n",
       "      <td>address_v4_function_1.cpp</td>\n",
       "      <td>4</td>\n",
       "      <td>address_v4 make_address_v4(const address_v4::b...</td>\n",
       "      <td>8.0</td>\n",
       "    </tr>\n",
       "    <tr>\n",
       "      <th>1</th>\n",
       "      <td>address_v6_function_2.cpp</td>\n",
       "      <td>9</td>\n",
       "      <td>void combine_4_bytes(std::size_t&amp; seed, const ...</td>\n",
       "      <td>8.0</td>\n",
       "    </tr>\n",
       "    <tr>\n",
       "      <th>2</th>\n",
       "      <td>AlgorithmFind_function_1.cpp</td>\n",
       "      <td>12</td>\n",
       "      <td>ForwardIterator findIf(ForwardIterator first, ...</td>\n",
       "      <td>8.0</td>\n",
       "    </tr>\n",
       "    <tr>\n",
       "      <th>3</th>\n",
       "      <td>Allocator_function_3.cpp</td>\n",
       "      <td>3</td>\n",
       "      <td>void deallocate(TYPE* p, std::size_t n) {\\n   ...</td>\n",
       "      <td>8.0</td>\n",
       "    </tr>\n",
       "    <tr>\n",
       "      <th>4</th>\n",
       "      <td>AnyMapHolder_function_1.cpp</td>\n",
       "      <td>3</td>\n",
       "      <td>AnyValue create_AnyValue() {\\n  return AnyValu...</td>\n",
       "      <td>8.0</td>\n",
       "    </tr>\n",
       "    <tr>\n",
       "      <th>...</th>\n",
       "      <td>...</td>\n",
       "      <td>...</td>\n",
       "      <td>...</td>\n",
       "      <td>...</td>\n",
       "    </tr>\n",
       "    <tr>\n",
       "      <th>1480</th>\n",
       "      <td>wrapped_swapchain_function_5.cpp</td>\n",
       "      <td>4</td>\n",
       "      <td>STDMETHODCALLTYPE GetPrivateData(REFGUID Name,...</td>\n",
       "      <td>8.0</td>\n",
       "    </tr>\n",
       "    <tr>\n",
       "      <th>1481</th>\n",
       "      <td>wrapped_swapchain_function_6.cpp</td>\n",
       "      <td>4</td>\n",
       "      <td>STDMETHODCALLTYPE GetParent(REFIID riid, void*...</td>\n",
       "      <td>8.0</td>\n",
       "    </tr>\n",
       "    <tr>\n",
       "      <th>1482</th>\n",
       "      <td>wrapped_swapchain_function_7.cpp</td>\n",
       "      <td>4</td>\n",
       "      <td>STDMETHODCALLTYPE GetDesc(DXGI_SWAP_CHAIN_DESC...</td>\n",
       "      <td>8.0</td>\n",
       "    </tr>\n",
       "    <tr>\n",
       "      <th>1483</th>\n",
       "      <td>wrapped_swapchain_function_8.cpp</td>\n",
       "      <td>4</td>\n",
       "      <td>STDMETHODCALLTYPE ResizeTarget(const DXGI_MODE...</td>\n",
       "      <td>8.0</td>\n",
       "    </tr>\n",
       "    <tr>\n",
       "      <th>1484</th>\n",
       "      <td>wrapped_swapchain_function_9.cpp</td>\n",
       "      <td>4</td>\n",
       "      <td>STDMETHODCALLTYPE GetFrameStatistics(DXGI_FRAM...</td>\n",
       "      <td>8.0</td>\n",
       "    </tr>\n",
       "  </tbody>\n",
       "</table>\n",
       "<p>1485 rows × 4 columns</p>\n",
       "</div>"
      ],
      "text/plain": [
       "                             file_name  line_count  \\\n",
       "0            address_v4_function_1.cpp           4   \n",
       "1            address_v6_function_2.cpp           9   \n",
       "2         AlgorithmFind_function_1.cpp          12   \n",
       "3             Allocator_function_3.cpp           3   \n",
       "4          AnyMapHolder_function_1.cpp           3   \n",
       "...                                ...         ...   \n",
       "1480  wrapped_swapchain_function_5.cpp           4   \n",
       "1481  wrapped_swapchain_function_6.cpp           4   \n",
       "1482  wrapped_swapchain_function_7.cpp           4   \n",
       "1483  wrapped_swapchain_function_8.cpp           4   \n",
       "1484  wrapped_swapchain_function_9.cpp           4   \n",
       "\n",
       "                                                   code  mark  \n",
       "0     address_v4 make_address_v4(const address_v4::b...   8.0  \n",
       "1     void combine_4_bytes(std::size_t& seed, const ...   8.0  \n",
       "2     ForwardIterator findIf(ForwardIterator first, ...   8.0  \n",
       "3     void deallocate(TYPE* p, std::size_t n) {\\n   ...   8.0  \n",
       "4     AnyValue create_AnyValue() {\\n  return AnyValu...   8.0  \n",
       "...                                                 ...   ...  \n",
       "1480  STDMETHODCALLTYPE GetPrivateData(REFGUID Name,...   8.0  \n",
       "1481  STDMETHODCALLTYPE GetParent(REFIID riid, void*...   8.0  \n",
       "1482  STDMETHODCALLTYPE GetDesc(DXGI_SWAP_CHAIN_DESC...   8.0  \n",
       "1483  STDMETHODCALLTYPE ResizeTarget(const DXGI_MODE...   8.0  \n",
       "1484  STDMETHODCALLTYPE GetFrameStatistics(DXGI_FRAM...   8.0  \n",
       "\n",
       "[1485 rows x 4 columns]"
      ]
     },
     "execution_count": 3,
     "metadata": {},
     "output_type": "execute_result"
    }
   ],
   "source": [
    "df = read_jsonl_file(\"code_filtered/Codes_marked_example_filtered_gte8.0.jsonl\")\n",
    "df"
   ]
  },
  {
   "cell_type": "markdown",
   "metadata": {},
   "source": [
    "### query(자연어)는 두 종류가 있다.\n",
    "- query_nsx : short description (함수의 목적 위주로 짧게 기술한 자연어 쿼리)\n",
    "- query_nlx : long description (함수의 기능 설명 위주로 길게 기술한 자연어 쿼리)\n",
    "\n",
    "#### 각 자연어는 humanEval-X 스타일로 저장이 된다. 즉, 자연어 부분은 코멘트 형태로 작성이 되고, 예상 코드의 함수 시그니처가 작성이 된다."
   ]
  },
  {
   "cell_type": "code",
   "execution_count": 4,
   "metadata": {},
   "outputs": [
    {
     "data": {
      "text/html": [
       "<div>\n",
       "<style scoped>\n",
       "    .dataframe tbody tr th:only-of-type {\n",
       "        vertical-align: middle;\n",
       "    }\n",
       "\n",
       "    .dataframe tbody tr th {\n",
       "        vertical-align: top;\n",
       "    }\n",
       "\n",
       "    .dataframe thead th {\n",
       "        text-align: right;\n",
       "    }\n",
       "</style>\n",
       "<table border=\"1\" class=\"dataframe\">\n",
       "  <thead>\n",
       "    <tr style=\"text-align: right;\">\n",
       "      <th></th>\n",
       "      <th>file_name</th>\n",
       "      <th>line_count</th>\n",
       "      <th>code</th>\n",
       "      <th>mark</th>\n",
       "      <th>query_nsx</th>\n",
       "      <th>query_nlx</th>\n",
       "    </tr>\n",
       "  </thead>\n",
       "  <tbody>\n",
       "    <tr>\n",
       "      <th>0</th>\n",
       "      <td>address_v4_function_1.cpp</td>\n",
       "      <td>4</td>\n",
       "      <td>address_v4 make_address_v4(const address_v4::b...</td>\n",
       "      <td>8.0</td>\n",
       "      <td></td>\n",
       "      <td></td>\n",
       "    </tr>\n",
       "    <tr>\n",
       "      <th>1</th>\n",
       "      <td>address_v6_function_2.cpp</td>\n",
       "      <td>9</td>\n",
       "      <td>void combine_4_bytes(std::size_t&amp; seed, const ...</td>\n",
       "      <td>8.0</td>\n",
       "      <td></td>\n",
       "      <td></td>\n",
       "    </tr>\n",
       "    <tr>\n",
       "      <th>2</th>\n",
       "      <td>AlgorithmFind_function_1.cpp</td>\n",
       "      <td>12</td>\n",
       "      <td>ForwardIterator findIf(ForwardIterator first, ...</td>\n",
       "      <td>8.0</td>\n",
       "      <td></td>\n",
       "      <td></td>\n",
       "    </tr>\n",
       "    <tr>\n",
       "      <th>3</th>\n",
       "      <td>Allocator_function_3.cpp</td>\n",
       "      <td>3</td>\n",
       "      <td>void deallocate(TYPE* p, std::size_t n) {\\n   ...</td>\n",
       "      <td>8.0</td>\n",
       "      <td></td>\n",
       "      <td></td>\n",
       "    </tr>\n",
       "    <tr>\n",
       "      <th>4</th>\n",
       "      <td>AnyMapHolder_function_1.cpp</td>\n",
       "      <td>3</td>\n",
       "      <td>AnyValue create_AnyValue() {\\n  return AnyValu...</td>\n",
       "      <td>8.0</td>\n",
       "      <td></td>\n",
       "      <td></td>\n",
       "    </tr>\n",
       "    <tr>\n",
       "      <th>...</th>\n",
       "      <td>...</td>\n",
       "      <td>...</td>\n",
       "      <td>...</td>\n",
       "      <td>...</td>\n",
       "      <td>...</td>\n",
       "      <td>...</td>\n",
       "    </tr>\n",
       "    <tr>\n",
       "      <th>1480</th>\n",
       "      <td>wrapped_swapchain_function_5.cpp</td>\n",
       "      <td>4</td>\n",
       "      <td>STDMETHODCALLTYPE GetPrivateData(REFGUID Name,...</td>\n",
       "      <td>8.0</td>\n",
       "      <td></td>\n",
       "      <td></td>\n",
       "    </tr>\n",
       "    <tr>\n",
       "      <th>1481</th>\n",
       "      <td>wrapped_swapchain_function_6.cpp</td>\n",
       "      <td>4</td>\n",
       "      <td>STDMETHODCALLTYPE GetParent(REFIID riid, void*...</td>\n",
       "      <td>8.0</td>\n",
       "      <td></td>\n",
       "      <td></td>\n",
       "    </tr>\n",
       "    <tr>\n",
       "      <th>1482</th>\n",
       "      <td>wrapped_swapchain_function_7.cpp</td>\n",
       "      <td>4</td>\n",
       "      <td>STDMETHODCALLTYPE GetDesc(DXGI_SWAP_CHAIN_DESC...</td>\n",
       "      <td>8.0</td>\n",
       "      <td></td>\n",
       "      <td></td>\n",
       "    </tr>\n",
       "    <tr>\n",
       "      <th>1483</th>\n",
       "      <td>wrapped_swapchain_function_8.cpp</td>\n",
       "      <td>4</td>\n",
       "      <td>STDMETHODCALLTYPE ResizeTarget(const DXGI_MODE...</td>\n",
       "      <td>8.0</td>\n",
       "      <td></td>\n",
       "      <td></td>\n",
       "    </tr>\n",
       "    <tr>\n",
       "      <th>1484</th>\n",
       "      <td>wrapped_swapchain_function_9.cpp</td>\n",
       "      <td>4</td>\n",
       "      <td>STDMETHODCALLTYPE GetFrameStatistics(DXGI_FRAM...</td>\n",
       "      <td>8.0</td>\n",
       "      <td></td>\n",
       "      <td></td>\n",
       "    </tr>\n",
       "  </tbody>\n",
       "</table>\n",
       "<p>1485 rows × 6 columns</p>\n",
       "</div>"
      ],
      "text/plain": [
       "                             file_name  line_count  \\\n",
       "0            address_v4_function_1.cpp           4   \n",
       "1            address_v6_function_2.cpp           9   \n",
       "2         AlgorithmFind_function_1.cpp          12   \n",
       "3             Allocator_function_3.cpp           3   \n",
       "4          AnyMapHolder_function_1.cpp           3   \n",
       "...                                ...         ...   \n",
       "1480  wrapped_swapchain_function_5.cpp           4   \n",
       "1481  wrapped_swapchain_function_6.cpp           4   \n",
       "1482  wrapped_swapchain_function_7.cpp           4   \n",
       "1483  wrapped_swapchain_function_8.cpp           4   \n",
       "1484  wrapped_swapchain_function_9.cpp           4   \n",
       "\n",
       "                                                   code  mark query_nsx  \\\n",
       "0     address_v4 make_address_v4(const address_v4::b...   8.0             \n",
       "1     void combine_4_bytes(std::size_t& seed, const ...   8.0             \n",
       "2     ForwardIterator findIf(ForwardIterator first, ...   8.0             \n",
       "3     void deallocate(TYPE* p, std::size_t n) {\\n   ...   8.0             \n",
       "4     AnyValue create_AnyValue() {\\n  return AnyValu...   8.0             \n",
       "...                                                 ...   ...       ...   \n",
       "1480  STDMETHODCALLTYPE GetPrivateData(REFGUID Name,...   8.0             \n",
       "1481  STDMETHODCALLTYPE GetParent(REFIID riid, void*...   8.0             \n",
       "1482  STDMETHODCALLTYPE GetDesc(DXGI_SWAP_CHAIN_DESC...   8.0             \n",
       "1483  STDMETHODCALLTYPE ResizeTarget(const DXGI_MODE...   8.0             \n",
       "1484  STDMETHODCALLTYPE GetFrameStatistics(DXGI_FRAM...   8.0             \n",
       "\n",
       "     query_nlx  \n",
       "0               \n",
       "1               \n",
       "2               \n",
       "3               \n",
       "4               \n",
       "...        ...  \n",
       "1480            \n",
       "1481            \n",
       "1482            \n",
       "1483            \n",
       "1484            \n",
       "\n",
       "[1485 rows x 6 columns]"
      ]
     },
     "execution_count": 4,
     "metadata": {},
     "output_type": "execute_result"
    }
   ],
   "source": [
    "df['query_nsx']=''\n",
    "df['query_nlx']=''\n",
    "df"
   ]
  },
  {
   "cell_type": "code",
   "execution_count": 5,
   "metadata": {},
   "outputs": [
    {
     "name": "stdout",
     "output_type": "stream",
     "text": [
      "0 1485\n"
     ]
    }
   ],
   "source": [
    "start = 0\n",
    "end = df.index.size\n",
    "print(start, end)"
   ]
  },
  {
   "cell_type": "markdown",
   "metadata": {},
   "source": [
    "### 작성된 자연어는 json_output 파일명으로 저장이 된다."
   ]
  },
  {
   "cell_type": "code",
   "execution_count": 6,
   "metadata": {},
   "outputs": [
    {
     "name": "stderr",
     "output_type": "stream",
     "text": [
      "  0%|          | 1/1485 [00:02<1:11:52,  2.91s/it]"
     ]
    },
    {
     "name": "stdout",
     "output_type": "stream",
     "text": [
      "Saved: df_nl_0.json\n",
      "File df_nl_-1000.json not found, skipping deletion.\n"
     ]
    },
    {
     "name": "stderr",
     "output_type": "stream",
     "text": [
      " 67%|██████▋   | 1001/1485 [31:03<13:12,  1.64s/it]"
     ]
    },
    {
     "name": "stdout",
     "output_type": "stream",
     "text": [
      "Saved: df_nl_1000.json\n",
      "Deleted: df_nl_0.json\n"
     ]
    },
    {
     "name": "stderr",
     "output_type": "stream",
     "text": [
      "100%|██████████| 1485/1485 [45:33<00:00,  1.84s/it]\n"
     ]
    }
   ],
   "source": [
    "json_output = \"code_converted/df_nl_converted_example.jsonl\"\n",
    "process_dataframe_code_to_nsx_nlx(df, start, end, llm, True, json_output)"
   ]
  }
 ],
 "metadata": {
  "kernelspec": {
   "display_name": "Python 3",
   "language": "python",
   "name": "python3"
  },
  "language_info": {
   "codemirror_mode": {
    "name": "ipython",
    "version": 3
   },
   "file_extension": ".py",
   "mimetype": "text/x-python",
   "name": "python",
   "nbconvert_exporter": "python",
   "pygments_lexer": "ipython3",
   "version": "3.10.9"
  }
 },
 "nbformat": 4,
 "nbformat_minor": 2
}
